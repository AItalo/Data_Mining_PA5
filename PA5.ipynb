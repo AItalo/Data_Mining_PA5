{
 "cells": [
  {
   "cell_type": "markdown",
   "metadata": {},
   "source": [
    "# PA5 - Naive Bayes"
   ]
  },
  {
   "cell_type": "markdown",
   "metadata": {},
   "source": [
    "## Step 1 - Train Dataset\n",
    "\n",
    "For this step, we will create a Naive Bayes classifier for the \"train\" dataset, provided below. "
   ]
  },
  {
   "cell_type": "code",
   "execution_count": 10,
   "metadata": {},
   "outputs": [],
   "source": [
    "table = [\n",
    "    [\"weekday\", \"spring\", \"none\", \"none\", \"on time\"],\n",
    "    [\"weekday\", \"winter\", \"none\", \"slight\", \"on time\"],\n",
    "    [\"weekday\", \"winter\", \"none\", \"slight\", \"on time\"],\n",
    "    [\"weekday\", \"winter\", \"high\", \"heavy\", \"late\"], \n",
    "    [\"saturday\", \"summer\", \"normal\", \"none\", \"on time\"],\n",
    "    [\"weekday\", \"autumn\", \"normal\", \"none\", \"very late\"],\n",
    "    [\"holiday\", \"summer\", \"high\", \"slight\", \"on time\"],\n",
    "    [\"sunday\", \"summer\", \"normal\", \"none\", \"on time\"],\n",
    "    [\"weekday\", \"winter\", \"high\", \"heavy\", \"very late\"],\n",
    "    [\"weekday\", \"summer\", \"none\", \"slight\", \"on time\"],\n",
    "    [\"saturday\", \"spring\", \"high\", \"heavy\", \"cancelled\"],\n",
    "    [\"weekday\", \"summer\", \"high\", \"slight\", \"on time\"],\n",
    "    [\"saturday\", \"winter\", \"normal\", \"none\", \"late\"],\n",
    "    [\"weekday\", \"summer\", \"high\", \"none\", \"on time\"],\n",
    "    [\"weekday\", \"winter\", \"normal\", \"heavy\", \"very late\"],\n",
    "    [\"saturday\", \"autumn\", \"high\", \"slight\", \"on time\"],\n",
    "    [\"weekday\", \"autumn\", \"none\", \"heavy\", \"on time\"],\n",
    "    [\"holiday\", \"spring\", \"normal\", \"slight\", \"on time\"],\n",
    "    [\"weekday\", \"spring\", \"normal\", \"none\", \"on time\"],\n",
    "    [\"weekday\", \"spring\", \"normal\", \"slight\", \"on time\"]\n",
    "]"
   ]
  },
  {
   "cell_type": "markdown",
   "metadata": {},
   "source": [
    "To create this classifier, we first must calculate prior probabilities for each class label.\n",
    "We will do this with the following helper function:\n",
    "\n",
    "* `calculate_priors()`\n",
    "    * **Params**:\n",
    "        * `data` - The dataset to calculate prior probabilities for\n",
    "        * `index` - The index of the classifier value in the dataset\n",
    "        * `classes` - An array of the classes present in the dataset\n",
    "    * **Returns**:\n",
    "        * An array of prior probability values, ordered according to the `classes` param."
   ]
  },
  {
   "cell_type": "code",
   "execution_count": 11,
   "metadata": {},
   "outputs": [],
   "source": [
    "def calculate_priors(data, index, classes):\n",
    "    counts = {}\n",
    "    total = 0\n",
    "    for label in classes:\n",
    "        counts[label] = 0\n",
    "    for instance in data:\n",
    "        counts[instance[index]] += 1\n",
    "        total += 1\n",
    "    probabilities = []\n",
    "    for label in classes:\n",
    "        probabilities.append(counts[label] / total)\n",
    "    return probabilities"
   ]
  },
  {
   "cell_type": "markdown",
   "metadata": {},
   "source": [
    "To check these values, we will refer to **Figure 3.2** from the Bramer textbook, which claims that the Prior Probabilities for \"on time\", \"late\" \"very late\", and \"cancelled\" should be 0.70, 0.10, 0.15, and 0.05, respectively.\n",
    "\n",
    "We will run our `calculatePriors()` function on these labels and display the values, which should match the given probabilities."
   ]
  },
  {
   "cell_type": "code",
   "execution_count": 12,
   "metadata": {},
   "outputs": [
    {
     "name": "stdout",
     "output_type": "stream",
     "text": [
      "[0.7, 0.1, 0.15, 0.05]\n"
     ]
    }
   ],
   "source": [
    "priors = calculate_priors(table, 4, [\"on time\", \"late\", \"very late\", \"cancelled\"])\n",
    "print(priors)"
   ]
  },
  {
   "cell_type": "markdown",
   "metadata": {},
   "source": [
    "As we can see, the values returned from `calculate_priors()` are the same as given in Bramer. Next, we will calculate the posterior probabilities for a given class label. Again, we will create a helper function `calculate_posteriors()` to find these values:\n",
    "\n",
    "* `calculate_posteriors()`\n",
    "    * **Params**:\n",
    "        * `data` - The dataset to calculate probabilities for\n",
    "        * `attributeIndex` - The index of the attribute to calculate conditional probability for\n",
    "        * `attribute` - The value of the index to calculate conditional probability for\n",
    "        * `classIndex` - The index of the class label\n",
    "        * `classLabels` - All classifier labels to calculate conditional probabilities for\n",
    "    * **Returns**:\n",
    "        * A list of posterior probabilities for the given attribute over each class label, ordered with respect to `classLabels()`"
   ]
  },
  {
   "cell_type": "code",
   "execution_count": 13,
   "metadata": {},
   "outputs": [],
   "source": [
    "def calculate_posteriors(data, attributeIndex, attribute, classIndex, classLabels):\n",
    "    conditionalCounts = {}\n",
    "    counts = {}\n",
    "    for label in classLabels:\n",
    "        counts[label] = 0\n",
    "        conditionalCounts[label] = 0\n",
    "    for instance in data:\n",
    "        counts[instance[classIndex]] += 1\n",
    "        if instance[attributeIndex] == attribute:\n",
    "            conditionalCounts[instance[classIndex]] += 1\n",
    "    probabilities = []\n",
    "    for label in classLabels:\n",
    "        if counts[label] == 0:\n",
    "            probabilities.append(0)\n",
    "        else:\n",
    "            probabilities.append(conditionalCounts[label] / counts[label])\n",
    "    return probabilities"
   ]
  },
  {
   "cell_type": "markdown",
   "metadata": {},
   "source": [
    "Once again, we will check our function output against the values provided by Bramer. For the attribute (day = \"weekday\"), we expect the posterior probabilities for class = \"on time\", \"late\", \"very late\", and \"cancelled\" to be 0.64, 0.5, 1, and 0, respectively."
   ]
  },
  {
   "cell_type": "code",
   "execution_count": 14,
   "metadata": {},
   "outputs": [
    {
     "name": "stdout",
     "output_type": "stream",
     "text": [
      "[0.6428571428571429, 0.5, 1.0, 0.0]\n"
     ]
    }
   ],
   "source": [
    "posteriors = calculate_posteriors(table, 0, \"weekday\", 4, [\"on time\", \"late\", \"very late\", \"cancelled\"])\n",
    "print(posteriors)"
   ]
  },
  {
   "cell_type": "markdown",
   "metadata": {},
   "source": [
    "Again, our values match up, although Bramer's values round off to 2 decimal places while ours sometimes have more bits of precision.\n",
    "\n",
    "Finally, we can use this to create a Naive Bayes classifier function.\n",
    "\n",
    "* `naive_bayes_classify()`\n",
    "    * **Params**:\n",
    "        * `train` - The data to use as training data\n",
    "        * `classIndex` - The index of the class label\n",
    "        * `classLabels` - A list of all possible class labels\n",
    "        * `test` - The unseen data to classify\n",
    "    * **Returns**:\n",
    "        * A classification for the `test` instance"
   ]
  },
  {
   "cell_type": "code",
   "execution_count": 15,
   "metadata": {},
   "outputs": [],
   "source": [
    "def naive_bayes_classify(train, classIndex, classLabels, test):\n",
    "    classProbabilities = []\n",
    "    for val in classLabels:\n",
    "        classProbabilities.append(0)\n",
    "    priors = calculate_priors(train, classIndex, classLabels)\n",
    "    for i in range(len(classProbabilities)):\n",
    "        classProbabilities[i] += priors[i]\n",
    "    for i in range(len(test)):\n",
    "        if i == classIndex:\n",
    "            continue\n",
    "        else:\n",
    "            attribute = test[i]\n",
    "            posteriors = calculate_posteriors(train, i, attribute, classIndex, classLabels)\n",
    "            for i in range(len(posteriors)):\n",
    "                classProbabilities[i] *= posteriors[i]\n",
    "    maxP = 0\n",
    "    index = 0\n",
    "    for i in range(len(classProbabilities)):\n",
    "        if classProbabilities[i] > maxP:\n",
    "            maxP = classProbabilities[i]\n",
    "            index = i\n",
    "    return classLabels[index]\n",
    "            "
   ]
  },
  {
   "cell_type": "markdown",
   "metadata": {},
   "source": [
    "To test that our classifier is functioning as intended, we will test it on the trains dataset using the unseen value (\"weekday\", \"winter\", \"high\", \"heavy\", \"???\"). Accordign to Bramer, this should be classified as \"very late\"."
   ]
  },
  {
   "cell_type": "code",
   "execution_count": 16,
   "metadata": {},
   "outputs": [
    {
     "name": "stdout",
     "output_type": "stream",
     "text": [
      "very late\n"
     ]
    }
   ],
   "source": [
    "label = naive_bayes_classify(table, 4, [\"on time\", \"late\", \"very late\", \"cancelled\"], [\"weekday\", \"winter\", \"high\", \"heavy\", \"???\"])\n",
    "print(label)"
   ]
  },
  {
   "cell_type": "markdown",
   "metadata": {},
   "source": [
    "And, as shown, the `naive_bayes_classify()` function does indeed classify the unseen data correctly. Therefore, we now have a functioning method for using Naive Bayes classification accross a given dataset."
   ]
  },
  {
   "cell_type": "markdown",
   "metadata": {},
   "source": [
    "## Step 2 - MPG predictor\n",
    "\n",
    "For this step, we will use our Naive Bayes methods on the auo-data dataset. First, we will import the data into an array titled `auto_data`. To generate this data, we will reuse the functions `read_data()`, `create_dataset()`, and `resolve_missing()` from PA4."
   ]
  },
  {
   "cell_type": "code",
   "execution_count": 55,
   "metadata": {},
   "outputs": [],
   "source": [
    "def read_data(filename):\n",
    "    f = open(filename, 'r')\n",
    "    text = f.read()\n",
    "    f.close()\n",
    "    return text\n",
    "\n",
    "def numerify_instance(instance):\n",
    "    new = []\n",
    "    for attribute in instance:\n",
    "        try:\n",
    "            new.append(float(attribute))\n",
    "        except:\n",
    "            new.append(attribute)\n",
    "    return new\n",
    "\n",
    "def create_dataset(data):\n",
    "    data_r = data.splitlines()\n",
    "    dataset_r = []\n",
    "    for line in data_r:\n",
    "        instance = line.split(',')\n",
    "        dataset_r.append(instance)\n",
    "    dataset = []\n",
    "    for instance in dataset_r:\n",
    "        newInstance = numerify_instance(instance)\n",
    "        dataset.append(newInstance)\n",
    "    return dataset\n",
    "\n",
    "def resolve_missing_values(data):\n",
    "    for i in range(10):\n",
    "        if i != 8:\n",
    "            sum_i = 0\n",
    "            count_i = 0\n",
    "            for instance in data:\n",
    "                if instance[i] != \"NA\":\n",
    "                    try:\n",
    "                        sum_i += instance[i]\n",
    "                        count_i += 1\n",
    "                    except:\n",
    "                        print(instance[i])\n",
    "            if count_i == 0:\n",
    "                continue\n",
    "            mean = sum_i / count_i\n",
    "            for instance in data:\n",
    "                if instance[i] == \"NA\":\n",
    "                    instance[i] = mean"
   ]
  },
  {
   "cell_type": "markdown",
   "metadata": {},
   "source": [
    "Then, we will use these functions to populate `auto_data`."
   ]
  },
  {
   "cell_type": "code",
   "execution_count": 56,
   "metadata": {},
   "outputs": [],
   "source": [
    "auto_data_r = create_dataset(read_data(\"auto-data.txt\"))\n",
    "resolve_missing_values(auto_data_r)"
   ]
  },
  {
   "cell_type": "markdown",
   "metadata": {},
   "source": [
    "This step only cares about the cyliders, weight, and model year attributes, as well as mpg as a classifier. So, to clean the dataset, we will first go through and restrict it to only these values."
   ]
  },
  {
   "cell_type": "code",
   "execution_count": 57,
   "metadata": {},
   "outputs": [],
   "source": [
    "def clean_auto_data(data):\n",
    "    cleaned_auto_data = []\n",
    "    for instance in data:\n",
    "        cleaned_instance = [instance[1], instance[4], instance[6], instance[0]]\n",
    "        cleaned_auto_data.append(cleaned_instance)\n",
    "    return cleaned_auto_data\n",
    "\n",
    "auto_data_c = clean_auto_data(auto_data_r)"
   ]
  },
  {
   "cell_type": "markdown",
   "metadata": {},
   "source": [
    "Then, we will go through and discretize mpg based on the DOE classification ranking, as well as weight based on the NHTSA vehicle sizes classification. Both tables are given below for reference.\n",
    "\n",
    "| Rating | MPG   |\n",
    "|--------|-----  |\n",
    "|   10   | ≥ 45  |\n",
    "|   9    | 37-44 |\n",
    "|   8    | 31-36 |\n",
    "|   7    | 27-30 |\n",
    "|   6    | 24-26 |\n",
    "|   5    | 20-23 |\n",
    "|   4    | 17-19 |\n",
    "|   3    | 15-16 |\n",
    "|   2    |   14  |\n",
    "|   1    | ≤ 13  |\n",
    "\n",
    "| Ranking |  Weight   |\n",
    "|---------|-----------|\n",
    "|    5    | ≥ 3500    |\n",
    "|    4    | 3000-3499 |\n",
    "|    3    | 2500-2999 |\n",
    "|    2    | 2000-2499 |\n",
    "|    1    | ≤ 1999    |"
   ]
  },
  {
   "cell_type": "code",
   "execution_count": 58,
   "metadata": {},
   "outputs": [],
   "source": [
    "def mpg_to_DOE(mpg):\n",
    "    if mpg >= 45:\n",
    "        y = 10\n",
    "    elif mpg >= 37:\n",
    "        y = 9\n",
    "    elif mpg >= 31:\n",
    "        y = 8\n",
    "    elif mpg >= 27:\n",
    "        y = 7\n",
    "    elif mpg >= 24:\n",
    "        y = 6\n",
    "    elif mpg >= 20:\n",
    "        y = 5\n",
    "    elif mpg >= 17:\n",
    "        y = 4\n",
    "    elif mpg >= 15:\n",
    "        y = 3\n",
    "    elif mpg >= 14:\n",
    "        y = 2\n",
    "    else:\n",
    "        y = 1\n",
    "    return y\n",
    "\n",
    "def weight_to_NHTSA(weight):\n",
    "    if weight >= 3500:\n",
    "        return 5\n",
    "    elif weight >= 3000:\n",
    "        return 4\n",
    "    elif weight >= 2500:\n",
    "        return 3\n",
    "    elif weight >= 2000:\n",
    "        return 2\n",
    "    else:\n",
    "        return 1\n",
    "\n",
    "    \n",
    "def discretize_auto_data(data):\n",
    "    discrete_data = []\n",
    "    for instance in data:\n",
    "        discrete = [instance[0], weight_to_NHTSA(instance[1]), instance[2], mpg_to_DOE(instance[3])]\n",
    "        discrete_data.append(discrete)\n",
    "    return discrete_data\n",
    "\n",
    "auto_data = discretize_auto_data(auto_data_c)"
   ]
  },
  {
   "cell_type": "markdown",
   "metadata": {},
   "source": [
    "We will now test our classifier by repeating steps 2-5 from PA4.\n",
    "\n",
    "### Random Instances\n",
    "\n",
    "First, we will test our classifier on a subset of 5 random instances from the dataset. To do so, we must first generate 5 random instances to test. We will reuse `generate_random_instances()` from PA4."
   ]
  },
  {
   "cell_type": "code",
   "execution_count": 59,
   "metadata": {},
   "outputs": [],
   "source": [
    "from random import randint\n",
    "import copy\n",
    "\n",
    "def generate_random_instances(data, n):\n",
    "    data_c = copy.deepcopy(data)\n",
    "    test_instances = []\n",
    "    for i in range(n):\n",
    "        index = randint(0, len(data_c)-1)\n",
    "        instance = data_c.pop(index)\n",
    "        test_instances.append(instance)\n",
    "    return test_instances\n",
    "\n",
    "random_test = generate_random_instances(auto_data, 5)"
   ]
  },
  {
   "cell_type": "markdown",
   "metadata": {},
   "source": [
    "Then, we will use our `naive_bayes_classify()` function to classify each test instance."
   ]
  },
  {
   "cell_type": "code",
   "execution_count": 60,
   "metadata": {},
   "outputs": [],
   "source": [
    "def generate_predictions(train, test):\n",
    "    predictions = []\n",
    "    for instance in test:\n",
    "        predictions.append(naive_bayes_classify(train, 3, [1, 2, 3, 4, 5, 6, 7, 8, 9, 10], instance))\n",
    "    return predictions\n",
    "\n",
    "def print_output(test, predictions):\n",
    "    for x in range(len(test)):\n",
    "        print(\"instance: \", test[x][0], \", \", test[x][1], \", \", test[x][2], sep=\"\")\n",
    "        print(\"predicted: \", predictions[x], \", actual: \", test[x][3], sep=\"\")\n",
    "        print()"
   ]
  },
  {
   "cell_type": "markdown",
   "metadata": {},
   "source": [
    "Now that we can generate a list of predictions, we will run the classifier and output the results."
   ]
  },
  {
   "cell_type": "code",
   "execution_count": 61,
   "metadata": {},
   "outputs": [
    {
     "name": "stdout",
     "output_type": "stream",
     "text": [
      "instance: 4.0, 3, 72.0\n",
      "predicted: 5, actual: 4\n",
      "\n",
      "instance: 4.0, 2, 72.0\n",
      "predicted: 7, actual: 7\n",
      "\n",
      "instance: 4.0, 2, 79.0\n",
      "predicted: 7, actual: 8\n",
      "\n",
      "instance: 4.0, 1, 77.0\n",
      "predicted: 8, actual: 7\n",
      "\n",
      "instance: 8.0, 5, 76.0\n",
      "predicted: 1, actual: 1\n",
      "\n"
     ]
    }
   ],
   "source": [
    "predictions = generate_predictions(auto_data, random_test)\n",
    "print_output(random_test, predictions)\n"
   ]
  },
  {
   "cell_type": "markdown",
   "metadata": {},
   "source": [
    "### Test / Train sets\n",
    "\n",
    "For this test, we will use stratified cross validation to create a 2:1 train/test set. To generate the train and test sets, we will once again reuse functions from PA4: `create_random_subsample()`, `compute_accuracy()`, and `compute_error()`."
   ]
  },
  {
   "cell_type": "code",
   "execution_count": 62,
   "metadata": {},
   "outputs": [],
   "source": [
    "from random import shuffle\n",
    "\n",
    "def create_random_subsample(data, size):\n",
    "    cutoff = int(len(data) * size)\n",
    "    data_c = copy.deepcopy(data)\n",
    "    shuffle(data_c)\n",
    "    train = data_c[:cutoff]\n",
    "    test = data_c[cutoff + 1:]\n",
    "    return test, train\n",
    "\n",
    "def compute_accuracy(predictions, actual):\n",
    "    correct = 0\n",
    "    for i in range(len(predictions)):\n",
    "        if predictions[i] == actual[i]:\n",
    "            correct += 1\n",
    "    accuracy = correct / len(predictions)\n",
    "    return accuracy\n",
    "\n",
    "def compute_error(predictions, actual):\n",
    "    incorrect = 0\n",
    "    for i in range(len(predictions)):\n",
    "        if predictions[i] != actual[i]:\n",
    "            incorrect += 1\n",
    "    error = incorrect / len(predictions)\n",
    "    return error"
   ]
  },
  {
   "cell_type": "markdown",
   "metadata": {},
   "source": [
    "Then we can use these functions to generate predictions and print the accuracy and the error rate."
   ]
  },
  {
   "cell_type": "code",
   "execution_count": 63,
   "metadata": {
    "scrolled": true
   },
   "outputs": [
    {
     "name": "stdout",
     "output_type": "stream",
     "text": [
      "Accuracy:  0.38461538461538464\n",
      "Error Rate:  0.6153846153846154\n"
     ]
    }
   ],
   "source": [
    "test, train = create_random_subsample(auto_data, 2/3)\n",
    "predictions = generate_predictions(train, test)\n",
    "accuracy = compute_accuracy(predictions, [x[3] for x in test])\n",
    "error = compute_error(predictions, [x[3] for x in test])\n",
    "\n",
    "print(\"Accuracy: \", accuracy)\n",
    "print(\"Error Rate: \", error)"
   ]
  },
  {
   "cell_type": "markdown",
   "metadata": {},
   "source": [
    "### Stratified Cross Validation\n",
    "\n",
    "Finally, we will use Stratified 10-Fold Cross Validation to generate random subsamples of test / train data to run our classifier on. \n",
    "\n",
    "We will borrow the function `create_cross_fold()` from PA4 for doing the subsampling."
   ]
  },
  {
   "cell_type": "code",
   "execution_count": 64,
   "metadata": {},
   "outputs": [],
   "source": [
    "def create_cross_fold(data, n):\n",
    "    data_r = copy.deepcopy(data)\n",
    "    shuffle(data_r)\n",
    "    size = int(len(data) * 1/n) \n",
    "    start = 0\n",
    "    end = size\n",
    "    folds = []\n",
    "    for i in range(n-1):\n",
    "        folds.append(data[start:end])\n",
    "        start = end + 1\n",
    "        end += size + 1\n",
    "    folds.append(data[start:])\n",
    "    return folds"
   ]
  },
  {
   "cell_type": "markdown",
   "metadata": {},
   "source": [
    "We now need to run the classifier 10 times, using each subsequent fold as test data and the other 9 folds as training data. For each fold, we will compute an accuracy and error rate, and then display the average at the end."
   ]
  },
  {
   "cell_type": "code",
   "execution_count": 65,
   "metadata": {},
   "outputs": [
    {
     "name": "stdout",
     "output_type": "stream",
     "text": [
      "Accuracy: 0.3471923536439666\n",
      "Error Rate: 0.6528076463560335\n"
     ]
    }
   ],
   "source": [
    "def print_cross_fold_output(data, n):\n",
    "    sum_accuracy = 0\n",
    "    sum_error = 0\n",
    "    folds = create_cross_fold(data, n)\n",
    "    for i in range(n):\n",
    "        test = folds[i]\n",
    "        train = []\n",
    "        for x in range(n):\n",
    "            if x == i:\n",
    "                continue\n",
    "            train += folds[x]\n",
    "        predictions = generate_predictions(train, test)\n",
    "        sum_accuracy += compute_accuracy(predictions, [x[3] for x in test])\n",
    "        sum_error += compute_error(predictions, [x[3] for x in test])\n",
    "    accuracy = sum_accuracy / n\n",
    "    error = sum_error / n\n",
    "    print(\"Accuracy:\", accuracy)\n",
    "    print(\"Error Rate:\", error)\n",
    "    \n",
    "print_cross_fold_output(auto_data, 10)"
   ]
  },
  {
   "attachments": {
    "math.svg": {
     "image/svg+xml": [
      "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"
     ]
    }
   },
   "cell_type": "markdown",
   "metadata": {},
   "source": [
    "## Step 3 - Gaussian Distribution\n",
    "\n",
    "For this step, we will repeat step 2 treating weight as a continuous attribute. To do this, we will utilize the Gaussian distribution function to calculate its conditional probability.\n",
    "\n",
    "First, we will implement the `gaussian()` functions, referenced from [U4 - Supervised Learning](https://github.com/GonzagaCPSC310/U4-Supervised-Learning/blob/master/D%20Naive%20Bayes.ipynb), defined by:\n",
    "\n",
    "![math.svg](attachment:math.svg)"
   ]
  },
  {
   "cell_type": "code",
   "execution_count": 66,
   "metadata": {},
   "outputs": [],
   "source": [
    "import math\n",
    "def gaussian(x, mean, sdev):\n",
    "  first, second = 0, 0\n",
    "  if sdev > 0:\n",
    "      first = 1 / (math.sqrt(2 * math.pi) * sdev)\n",
    "      second = math.e ** (-((x - mean) ** 2) / (2 * (sdev ** 2)))\n",
    "  return first * second"
   ]
  },
  {
   "cell_type": "markdown",
   "metadata": {},
   "source": [
    "We can now redefine our classifier, using the Gaussian function for weight. \n",
    "\n",
    "We will also need helper functions in order to calculate the mean and standard deviation of a given attribute for a given class label. \n",
    "\n",
    "\n",
    "* `class_std_dev_attribute()`\n",
    "    * **Params**:\n",
    "        * `data` - The dataset to calculate standard deviation over\n",
    "        * `index` - The index of the attribute to calculate standard deviation for\n",
    "        * `classLabel` - The class label to calculate the std dev for\n",
    "        * `classIndex` - the index of the classifier attribute in the data\n",
    "    * **Returns**:\n",
    "        * The standard deviation of the given attribute in the dataset over all instances where the class label is `classLabel`\n",
    "* `class_mean_attribute()`\n",
    "    * **Params**:\n",
    "        * `data` - The dataset to calculate mean over\n",
    "        * `index` - The index of the attribute to calculate mean for\n",
    "        * `classLabel` - The class label to calculate the mean for\n",
    "        * `classIndex` - the index of the classifier attribute in the data\n",
    "    * **Returns**:\n",
    "        * The mean of the given attriute over all instances where the class label is `classLabel`\n",
    "* `naive_bayes_classify_gaussian()`\n",
    "    * **Params**:\n",
    "        * `train` - The dataset to use for the training set\n",
    "        * `classIndex` - The index of the classifier attribute within the data\n",
    "        * `classLabels` - A list of all possible class labels\n",
    "        * `gaussianIndices` - A list of indices to treat as continuous variables and use gaussian distributions on\n",
    "        * `test` - The unseen test data to predict a class for\n",
    "    * **Returns**:\n",
    "        * A predicted classification using Naive Bayes, calculated using posterior probabilities for categorical variables and gaussian distributions for continuous variables."
   ]
  },
  {
   "cell_type": "code",
   "execution_count": 67,
   "metadata": {},
   "outputs": [],
   "source": [
    "def class_mean_attribute(data, index, classLabel, classIndex):\n",
    "    sum = 0\n",
    "    count = 0\n",
    "    for instance in data:\n",
    "        if instance[classIndex] == classLabel:\n",
    "            sum += instance[classIndex]\n",
    "            count += 1\n",
    "    if count == 0:\n",
    "        return 0\n",
    "    else:\n",
    "        return sum / count\n",
    "\n",
    "def class_std_dev_attribute(data, index, classLabel, classIndex):\n",
    "    sum = 0\n",
    "    count = 0\n",
    "    mean = class_mean_attribute(data, index, classLabel, classIndex)\n",
    "    for instance in data:\n",
    "        if instance[classIndex] == classLabel:\n",
    "            sum += (instance[index] - mean)**2\n",
    "            count += 1\n",
    "    if count == 0:\n",
    "        return 0\n",
    "    else:\n",
    "        return ((sum / count)**(1/2))\n",
    "\n",
    "\n",
    "def naive_bayes_classify_gaussian(train, classIndex, classLabels, gaussianIndices, test):\n",
    "    classProbabilities = []\n",
    "    for val in classLabels:\n",
    "        classProbabilities.append(0)\n",
    "    priors = calculate_priors(train, classIndex, classLabels)\n",
    "    for i in range(len(classProbabilities)):\n",
    "        classProbabilities[i] += priors[i]\n",
    "    for i in range(len(test)):\n",
    "        if i == classIndex:\n",
    "            continue\n",
    "        elif i in gaussianIndices:\n",
    "            gaussians = []\n",
    "            for label in classLabels:\n",
    "                mean = class_mean_attribute(train, i, label, classIndex)\n",
    "                std_dev = class_std_dev_attribute(train, i, label, classIndex)\n",
    "                gaussians.append(gaussian(test[i], mean, std_dev))\n",
    "            for i in range(len(gaussians)):\n",
    "                classProbabilities[i] *= gaussians[i]\n",
    "        else:\n",
    "            attribute = test[i]\n",
    "            posteriors = calculate_posteriors(train, i, attribute, classIndex, classLabels)\n",
    "            for i in range(len(posteriors)):\n",
    "                classProbabilities[i] *= posteriors[i]\n",
    "    maxP = 0\n",
    "    index = 0\n",
    "    for i in range(len(classProbabilities)):\n",
    "        if classProbabilities[i] > maxP:\n",
    "            maxP = classProbabilities[i]\n",
    "            index = i\n",
    "    return classLabels[index]\n",
    "            "
   ]
  },
  {
   "cell_type": "markdown",
   "metadata": {},
   "source": [
    "Now, we need to recreate the dataset, since weight is no longer a categorical variable. We will copy the previous `discretize_auto_data()` function, leaving weight as is instead of converting to NHTSA rankings."
   ]
  },
  {
   "cell_type": "code",
   "execution_count": 68,
   "metadata": {},
   "outputs": [],
   "source": [
    "def discretize_auto_data_gaussian(data):\n",
    "    discrete_data = []\n",
    "    for instance in data:\n",
    "        discrete = [instance[0], instance[1], instance[2], mpg_to_DOE(instance[3])]\n",
    "        discrete_data.append(discrete)\n",
    "    return discrete_data\n",
    "\n",
    "auto_data_g = discretize_auto_data_gaussian(auto_data_c)"
   ]
  },
  {
   "cell_type": "markdown",
   "metadata": {},
   "source": [
    "We can now recreate the phases of Step 2, using this new gaussian classifier."
   ]
  },
  {
   "cell_type": "markdown",
   "metadata": {},
   "source": [
    "### Random Instances\n",
    "\n",
    "First, we will test the Gaussian classifier against 5 random instances. We must modify our `generate_predictions()` function in order to use the gaussian classifier, which we will rename `generate_gaussian_predictions()`."
   ]
  },
  {
   "cell_type": "code",
   "execution_count": 69,
   "metadata": {},
   "outputs": [],
   "source": [
    "def generate_gaussian_predictions(train, test):\n",
    "    predictions = []\n",
    "    for instance in test:\n",
    "        predictions.append(naive_bayes_classify_gaussian(train, 3, [1, 2, 3, 4, 5, 6, 7, 8, 9, 10], [1], instance))\n",
    "    return predictions"
   ]
  },
  {
   "cell_type": "markdown",
   "metadata": {},
   "source": [
    "Now, we will use the same random generation function and prediction output function as before to test our gaussian prediction on a random subsample of the data."
   ]
  },
  {
   "cell_type": "code",
   "execution_count": 70,
   "metadata": {},
   "outputs": [
    {
     "name": "stdout",
     "output_type": "stream",
     "text": [
      "instance: 4.0, 2694.0, 75.0\n",
      "predicted: 6, actual: 5\n",
      "\n",
      "instance: 4.0, 2155.0, 76.0\n",
      "predicted: 7, actual: 7\n",
      "\n",
      "instance: 6.0, 2904.0, 73.0\n",
      "predicted: 4, actual: 5\n",
      "\n",
      "instance: 4.0, 2130.0, 70.0\n",
      "predicted: 6, actual: 7\n",
      "\n",
      "instance: 8.0, 4440.0, 75.0\n",
      "predicted: 3, actual: 3\n",
      "\n"
     ]
    }
   ],
   "source": [
    "random_test_g = generate_random_instances(auto_data_g, 5)\n",
    "predictions_g = generate_gaussian_predictions(auto_data_g, random_test_g)\n",
    "print_output(random_test_g, predictions_g)"
   ]
  },
  {
   "cell_type": "markdown",
   "metadata": {},
   "source": [
    "### Train/Test Sets: Random Sub-Sampling\n",
    "\n",
    "Second, we will once again generate a random 2:1 split of train / test data and perform our prediction using the gaussian classifier. This will follow the exact same format as the original classifier, using the new datasets."
   ]
  },
  {
   "cell_type": "code",
   "execution_count": 81,
   "metadata": {},
   "outputs": [
    {
     "name": "stdout",
     "output_type": "stream",
     "text": [
      "Accuracy:  0.3076923076923077\n",
      "Error Rate:  0.6923076923076923\n"
     ]
    }
   ],
   "source": [
    "test, train = create_random_subsample(auto_data_g, 2/3)\n",
    "predictions = generate_gaussian_predictions(train, test)\n",
    "accuracy = compute_accuracy(predictions, [x[3] for x in test])\n",
    "error = compute_error(predictions, [x[3] for x in test])\n",
    "\n",
    "print(\"Accuracy: \", accuracy)\n",
    "print(\"Error Rate: \", error)"
   ]
  },
  {
   "cell_type": "markdown",
   "metadata": {},
   "source": [
    "### Train/Test Sets: Stratified Cross Validation\n",
    "\n",
    "Finally, we will recreate our 10-fold cross validation testing using the gaussian classifier. We will reuse the `print_cross_fold_output()` function, rewritten to use our gaussian classifier."
   ]
  },
  {
   "cell_type": "code",
   "execution_count": 83,
   "metadata": {},
   "outputs": [
    {
     "name": "stdout",
     "output_type": "stream",
     "text": [
      "Accuracy: 0.3097968936678614\n",
      "Error Rate: 0.6902031063321387\n"
     ]
    }
   ],
   "source": [
    "def print_cross_fold_output_gaussian(data, n):\n",
    "    sum_accuracy = 0\n",
    "    sum_error = 0\n",
    "    folds = create_cross_fold(data, n)\n",
    "    for i in range(n):\n",
    "        test = folds[i]\n",
    "        train = []\n",
    "        for x in range(n):\n",
    "            if x == i:\n",
    "                continue\n",
    "            train += folds[x]\n",
    "        predictions = generate_gaussian_predictions(train, test)\n",
    "        sum_accuracy += compute_accuracy(predictions, [x[3] for x in test])\n",
    "        sum_error += compute_error(predictions, [x[3] for x in test])\n",
    "    accuracy = sum_accuracy / n\n",
    "    error = sum_error / n\n",
    "    print(\"Accuracy:\", accuracy)\n",
    "    print(\"Error Rate:\", error)\n",
    "\n",
    "\n",
    "print_cross_fold_output_gaussian(auto_data_g, 10)"
   ]
  },
  {
   "cell_type": "markdown",
   "metadata": {},
   "source": [
    "## Step 4 - Titanic Dataset\n",
    "\n",
    "For this step, we will use both Naive Bayes and k-NN to predict the survival attribute from the titanic dataset, which we will now load. Note that this file has been cleaned from its origial form to only include the relevant data, without any headers or identifying information."
   ]
  },
  {
   "cell_type": "code",
   "execution_count": 79,
   "metadata": {},
   "outputs": [],
   "source": [
    "titanic_data = create_dataset(read_data(\"titanic_data.txt\"))"
   ]
  },
  {
   "cell_type": "markdown",
   "metadata": {},
   "source": [
    "Next, we define 2 functions similar to functions used previously: `generate_titanic_predictions()` and `print_titanic_cross_fold_output()`. These will allow us to use the Naive Bayes classifier on the titanic dataset. "
   ]
  },
  {
   "cell_type": "code",
   "execution_count": 108,
   "metadata": {},
   "outputs": [],
   "source": [
    "def generate_titanic_predictions(train, test):\n",
    "    predictions = []\n",
    "    for instance in test:\n",
    "        predictions.append(naive_bayes_classify(train, 3, [\"yes\", \"no\"], instance))\n",
    "    return predictions\n",
    "\n",
    "def print_titanic_cross_fold_output(data, n):\n",
    "    sum_accuracy = 0\n",
    "    sum_error = 0\n",
    "    folds = create_cross_fold(data, n)\n",
    "    for i in range(n):\n",
    "        test = folds[i]\n",
    "        train = []\n",
    "        for x in range(n):\n",
    "            if x == i:\n",
    "                continue\n",
    "            train += folds[x]\n",
    "        predictions = generate_titanic_predictions(train, test)\n",
    "        sum_accuracy += compute_accuracy(predictions, [x[3] for x in test])\n",
    "        sum_error += compute_error(predictions, [x[3] for x in test])\n",
    "    accuracy = sum_accuracy / n\n",
    "    error = sum_error / n\n",
    "    print(\"Accuracy:\", accuracy)\n",
    "    print(\"Error Rate:\", error)\n",
    "    "
   ]
  },
  {
   "cell_type": "markdown",
   "metadata": {},
   "source": [
    "We will also define a k-NN classifier for the dataset, borrowing from PA4 once more.\n",
    "\n",
    "Since all of the attributes in the titanic dataset are categorical and non-numeric, we will convert them to normalized numeric values instead. Since Age, Sex, and Survived are binary, we will simply arbitrarily assign one value to 0 and one value to 1 for each attribute. For Class, however, there are 4 values: First, Second, Third, and Crew. Here, we make some assumptions about the data in the normalizing process. We can assume that passenger class likely had an impact on survival, since it would affect their living quarter placement as well as potentially their access to lifeboats; presumably, first class passengers would be given priority over crew. Therefore, we will order them with crew being 0 and first class being 1, to hopefully give an accurate normalization of the data.\n",
    "\n",
    "The data will be normalized as follows:\n",
    "\n",
    "| Class  | Normalized |\n",
    "|--------|------------|\n",
    "| crew   |     0      |\n",
    "| third  |   0.333..  |\n",
    "| second |   0.666..  |\n",
    "| first  |     1      |\n",
    "\n",
    "|  Age  | Normalized |\n",
    "|-------|------------|\n",
    "| child |     0      |\n",
    "| adult |     1      |\n",
    "\n",
    "|   Sex  | Normalized |\n",
    "|--------|------------|\n",
    "| female |      0     |\n",
    "|  male  |      1     |\n",
    "\n",
    "| Survived | Normalized |\n",
    "|----------|------------|\n",
    "|    no    |     0      |\n",
    "|   yes    |     1      |"
   ]
  },
  {
   "cell_type": "code",
   "execution_count": 109,
   "metadata": {},
   "outputs": [],
   "source": [
    "def normalize_titanic_data(data):\n",
    "    normal_data = []\n",
    "    class_n = {\"crew\":0, \"third\":(1/3), \"second\":(2/3), \"first\":1}\n",
    "    age_n = {\"child\":0, \"adult\":1}\n",
    "    sex_n = {\"female\":0, \"male\":1}\n",
    "    survived_n = {\"no\":0, \"yes\":1}\n",
    "    for instance in data:\n",
    "        instance_n = []\n",
    "        instance_n.append(class_n[instance[0]])\n",
    "        instance_n.append(age_n[instance[1]])\n",
    "        instance_n.append(sex_n[instance[2]])\n",
    "        instance_n.append(survived_n[instance[3]])\n",
    "        normal_data.append(instance_n)\n",
    "    return normal_data\n",
    "\n",
    "titanic_knn = normalize_titanic_data(titanic_data)"
   ]
  },
  {
   "cell_type": "markdown",
   "metadata": {},
   "source": [
    "Now, we can write our k-NN classifier, copying heavily from PA4 but modifying the logic slightly to fit our needs better. We will need `calculate_distance()` to get the distance between two instances, `calculate_all_distances()` for getting a list of distances for the entire dataset, and `calculate_most_common_element()` for k-NN voting, as well as a modified `knn()` function as the actual classifier."
   ]
  },
  {
   "cell_type": "code",
   "execution_count": 118,
   "metadata": {},
   "outputs": [],
   "source": [
    "import operator\n",
    "\n",
    "def calculate_distance(instance, base, class_index):\n",
    "    sum_a = 0\n",
    "    for i in range(len(instance)):\n",
    "        if i == class_index:\n",
    "            continue\n",
    "        else:\n",
    "            dif = instance[i] - base[i]\n",
    "            sum_a += dif**2\n",
    "    distance = sum_a**(1/2)\n",
    "    return distance\n",
    "\n",
    "def calculate_all_distances(data, base, class_index):\n",
    "    distances = []\n",
    "    for instance in data:\n",
    "        distance = calculate_distance(instance, base, class_index)\n",
    "        distances.append((instance[class_index], distance))\n",
    "    return distances\n",
    "\n",
    "def compute_most_common_element(data, index):\n",
    "    freqs = {}\n",
    "    for instance in data:\n",
    "        if instance[index] in freqs:\n",
    "            freqs[instance[index]] += 1\n",
    "        else:\n",
    "            freqs[instance[index]] = 1            \n",
    "    # line referenced from https://stackoverflow.com/questions/268272/getting-key-with-maximum-value-in-dictionary\n",
    "    mce = max(freqs.items(), key=operator.itemgetter(1))[0]\n",
    "    return mce\n",
    "\n",
    "def knn(data, instance, k, class_index):\n",
    "    distances = calculate_all_distances(data, instance, class_index)\n",
    "    sorted_distances = sorted(distances, key=operator.itemgetter(1))\n",
    "    neighbors = []\n",
    "    for i in range(k):\n",
    "        neighbors.append(sorted_distances[i][0])\n",
    "    return compute_most_common_element([[x] for x in neighbors], 0)"
   ]
  },
  {
   "cell_type": "markdown",
   "metadata": {},
   "source": [
    "Finally, we need to define methods to generate multiple k-NN predictions, as well as perform a stratified cross-fold train/test split using k-NN."
   ]
  },
  {
   "cell_type": "code",
   "execution_count": 113,
   "metadata": {},
   "outputs": [],
   "source": [
    "def generate_knn_predictions(train, test):\n",
    "    predictions = []\n",
    "    for instance in test:\n",
    "        predictions.append(knn(titanic_knn, instance, 5, 3))\n",
    "    return predictions\n",
    "\n",
    "def print_knn_cross_fold_output(data, n):\n",
    "    sum_accuracy = 0\n",
    "    sum_error = 0\n",
    "    folds = create_cross_fold(data, n)\n",
    "    for i in range(n):\n",
    "        test = folds[i]\n",
    "        train = []\n",
    "        for x in range(n):\n",
    "            if x == i:\n",
    "                continue\n",
    "            train += folds[x]\n",
    "        predictions = generate_knn_predictions(train, test)\n",
    "        sum_accuracy += compute_accuracy(predictions, [x[3] for x in test])\n",
    "        sum_error += compute_error(predictions, [x[3] for x in test])\n",
    "    accuracy = sum_accuracy / n\n",
    "    error = sum_error / n\n",
    "    print(\"Accuracy:\", accuracy)\n",
    "    print(\"Error Rate:\", error)"
   ]
  },
  {
   "cell_type": "markdown",
   "metadata": {},
   "source": [
    "Now that we have our classifiers defined, we can test their output. First, we will run a 10-fold cross validation on the Naive Bayes classifier:"
   ]
  },
  {
   "cell_type": "code",
   "execution_count": 114,
   "metadata": {},
   "outputs": [
    {
     "name": "stdout",
     "output_type": "stream",
     "text": [
      "Accuracy: 0.7774442538593482\n",
      "Error Rate: 0.22255574614065182\n"
     ]
    }
   ],
   "source": [
    "print_titanic_cross_fold_output(titanic_data, 10)"
   ]
  },
  {
   "cell_type": "markdown",
   "metadata": {},
   "source": [
    "And then a 10-fold cross validation on the k-NN classifier:"
   ]
  },
  {
   "cell_type": "code",
   "execution_count": 119,
   "metadata": {},
   "outputs": [
    {
     "name": "stdout",
     "output_type": "stream",
     "text": [
      "Accuracy: 0.7824614065180102\n",
      "Error Rate: 0.2175385934819897\n"
     ]
    }
   ],
   "source": [
    "print_knn_cross_fold_output(titanic_knn, 10)"
   ]
  },
  {
   "cell_type": "markdown",
   "metadata": {},
   "source": [
    "As we can see, both classifiers produce very similar accuracies, sitting around 78% accurate. To better display these results, we will also create two functions to print confusion matrices for both classifiers."
   ]
  },
  {
   "cell_type": "code",
   "execution_count": 124,
   "metadata": {},
   "outputs": [
    {
     "name": "stdout",
     "output_type": "stream",
     "text": [
      "Naive Bayes (Stratefied10-Fold Cross Validation Results):\n",
      "===============================================================\n",
      "Survived      no    yes    Total    Recognition (%)\n",
      "----------  ----  -----  -------  -----------------\n",
      "no           346    362      708            48.8701\n",
      "yes          126   1358     1484            91.5094\n"
     ]
    }
   ],
   "source": [
    "from tabulate import tabulate\n",
    "\n",
    "def confusion_matrix_bayes(data, n):\n",
    "    results = [[\"no\", 0, 0], [\"yes\", 0, 0]]\n",
    "    folds = create_cross_fold(data, n)\n",
    "    for i in range(n):\n",
    "        test = folds[i]\n",
    "        train = []\n",
    "        for x in range(n):\n",
    "            if x == i:\n",
    "                continue\n",
    "            train += folds[x]\n",
    "        predictions = generate_titanic_predictions(train, test)\n",
    "        actual = [instance[3] for instance in test]\n",
    "        for i in range(len(actual)):\n",
    "            if actual[i] == \"no\":\n",
    "                if predictions[i] == \"no\":\n",
    "                    results[0][1] += 1\n",
    "                else:\n",
    "                    results[0][2] += 1\n",
    "            else:\n",
    "                if predictions[i] == \"no\":\n",
    "                    results[1][1] += 1\n",
    "                else:\n",
    "                    results[1][2] += 1\n",
    "    for row in results:\n",
    "        row.append(sum(row[1:]))\n",
    "        if row[0] == \"no\":\n",
    "            row.append((row[1] / row[3]) * 100)\n",
    "        else:\n",
    "            row.append((row[2] / row[3]) * 100)\n",
    "    header = [\"Survived\", \"no\", \"yes\", \"Total\", \"Recognition (%)\"]\n",
    "    print(\"Naive Bayes (Stratefied\", n, \"-Fold Cross Validation Results):\", sep=\"\")\n",
    "    print(\"===============================================================\")\n",
    "    print(tabulate(results, headers=header))\n",
    "    \n",
    "confusion_matrix_bayes(titanic_data, 10)"
   ]
  },
  {
   "cell_type": "code",
   "execution_count": 125,
   "metadata": {},
   "outputs": [
    {
     "name": "stdout",
     "output_type": "stream",
     "text": [
      "k-NN Bayes (Stratefied10-Fold Cross Validation Results):\n",
      "===============================================================\n",
      "Survived      no    yes    Total    Recognition (%)\n",
      "----------  ----  -----  -------  -----------------\n",
      "no           357    351      708            50.4237\n",
      "yes          126   1358     1484            91.5094\n"
     ]
    }
   ],
   "source": [
    "def confusion_matrix_knn(data, n):\n",
    "    results = [[\"no\", 0, 0], [\"yes\", 0, 0]]\n",
    "    folds = create_cross_fold(data, n)\n",
    "    for i in range(n):\n",
    "        test = folds[i]\n",
    "        train = []\n",
    "        for x in range(n):\n",
    "            if x == i:\n",
    "                continue\n",
    "            train += folds[x]\n",
    "        predictions = generate_knn_predictions(train, test)\n",
    "        actual = [instance[3] for instance in test]\n",
    "        for i in range(len(actual)):\n",
    "            if actual[i] == 0:\n",
    "                if predictions[i] == 0:\n",
    "                    results[0][1] += 1\n",
    "                else:\n",
    "                    results[0][2] += 1\n",
    "            else:\n",
    "                if predictions[i] == 0:\n",
    "                    results[1][1] += 1\n",
    "                else:\n",
    "                    results[1][2] += 1\n",
    "    for row in results:\n",
    "        row.append(sum(row[1:]))\n",
    "        if row[0] == \"no\":\n",
    "            row.append((row[1] / row[3]) * 100)\n",
    "        else:\n",
    "            row.append((row[2] / row[3]) * 100)\n",
    "    header = [\"Survived\", \"no\", \"yes\", \"Total\", \"Recognition (%)\"]\n",
    "    print(\"k-NN Bayes (Stratefied\", n, \"-Fold Cross Validation Results):\", sep=\"\")\n",
    "    print(\"===============================================================\")\n",
    "    print(tabulate(results, headers=header))\n",
    "    \n",
    "confusion_matrix_knn(titanic_knn, 10)"
   ]
  },
  {
   "cell_type": "markdown",
   "metadata": {},
   "source": [
    "## Step 5 - Baseline Classifiers\n",
    "\n",
    "To compare the accuracy of the previously created Naive Bayes and k-NN classifiers on the Titanic dataset, we will create two \"baseline\" classifiers to use for reference. First, we will create a Random classifier, which will generate predictions randomly with guesses weighted based on the frequency of class labels in the dataset. Then, we will also create a Zero Rule classifier, which simply always guesses the most common class label in the dataset. The two functions for these classifiers are as follows:\n",
    "\n",
    "* `random_classifier()`\n",
    "    * **Params**:\n",
    "        * `data` - The dataset to use for generating predictions\n",
    "        * `n` - The number of random predictions to generate\n",
    "        * `classIndex` - The index of the classification attribute in the data\n",
    "    * **Returns**:\n",
    "        * A list of `n` random classifications, weighted based on the frequency of class labels in the database (ie if 80% of the data is classified as Yes and 20% as No, the classifier will guess Yes about 80% of the time.)\n",
    "* `zero_r_classifier()`\n",
    "    * **Params**:\n",
    "        * `data` - The dataset to use for generating predictions\n",
    "        * `n` - The number of predictions to generate\n",
    "        * `classIndex` - The index of the classification attribute in the data\n",
    "    * **Returns**:\n",
    "        * A list of `n` instances of the most common class label\n",
    "        "
   ]
  },
  {
   "cell_type": "code",
   "execution_count": 128,
   "metadata": {},
   "outputs": [],
   "source": [
    "def random_classifier(data, n, classIndex):\n",
    "    classes = []\n",
    "    for instance in data:\n",
    "        classes.append(instance[classIndex])\n",
    "    predictions = []\n",
    "    for i in range(n):\n",
    "        index = randint(0, len(classes))\n",
    "        predictions.append(data[index][classIndex])\n",
    "    return predictions\n",
    "\n",
    "\n",
    "def zero_r_classifier(data, n, classIndex):\n",
    "    mce = compute_most_common_element(data, classIndex)\n",
    "    predictions = []\n",
    "    for i in range(n):\n",
    "        predictions.append(mce)\n",
    "    return predictions"
   ]
  },
  {
   "cell_type": "markdown",
   "metadata": {},
   "source": [
    "Now, knowing that our k-NN and Naive Bayes classifiers both have an accuracy of about 78%, let's generate predictions for about 1/3 of our data using our baseline classifiers and compare their accuracy:"
   ]
  },
  {
   "cell_type": "code",
   "execution_count": 129,
   "metadata": {},
   "outputs": [
    {
     "name": "stdout",
     "output_type": "stream",
     "text": [
      "Random Classifier Accuracy: 0.5557142857142857\n",
      "Zero Rule Classifier Accuracy: 0.6657142857142857\n"
     ]
    }
   ],
   "source": [
    "test = generate_random_instances(titanic_data, 700)\n",
    "\n",
    "predictions_random = random_classifier(titanic_data, 700, 3)\n",
    "predictions_zero = zero_r_classifier(titanic_data, 700, 3)\n",
    "\n",
    "print(\"Random Classifier Accuracy:\", compute_accuracy(predictions_random, [x[3] for x in test]))\n",
    "print(\"Zero Rule Classifier Accuracy:\", compute_accuracy(predictions_zero, [x[3] for x in test]))"
   ]
  },
  {
   "cell_type": "markdown",
   "metadata": {},
   "source": [
    "As we can see, these incredibly simple baseline classifiers actually do fairly well for the data, with accuracy between 50-70%. However, our actual classifiers do seem to consistantly be more accurate, although the increase in complexity is much greater than the increase in accuracy for both Naive Bayes and k-NN compared to these simple predictors."
   ]
  }
 ],
 "metadata": {
  "kernelspec": {
   "display_name": "Python 3",
   "language": "python",
   "name": "python3"
  },
  "language_info": {
   "codemirror_mode": {
    "name": "ipython",
    "version": 3
   },
   "file_extension": ".py",
   "mimetype": "text/x-python",
   "name": "python",
   "nbconvert_exporter": "python",
   "pygments_lexer": "ipython3",
   "version": "3.7.1"
  }
 },
 "nbformat": 4,
 "nbformat_minor": 2
}
